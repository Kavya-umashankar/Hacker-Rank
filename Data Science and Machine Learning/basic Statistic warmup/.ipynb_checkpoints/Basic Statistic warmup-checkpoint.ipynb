{
 "cells": [
  {
   "cell_type": "markdown",
   "id": "e7b17a71",
   "metadata": {},
   "source": [
    "You are given an array of N integers separated by spaces, all in one line.\n",
    "\n",
    "Display the following:\n",
    "\n",
    "Mean (m): The average of all the integers.\n",
    "\n",
    "Median of this array: In case, the number of integers is odd, the middle element; else, the average of the middle two elements.\n",
    "\n",
    "Mode: The element(s) which occurs most frequently. If multiple elements satisfy this criteria, display the numerically smallest one.\n",
    "\n",
    "Standard Deviation (SD).\n",
    "\n",
    "SD = (((x1-m)2+(x2-m)2+(x3-m)2+(x4-m)2+...(xN-m)2))/N)0.5\n",
    "\n",
    "where xi is the ith element of the array\n",
    "\n",
    "Lower and Upper Boundary of the 95% Confidence Interval for the mean, separated by a space. This might be a new term to some. However, it is an important concept with a simple, formulaic solution. Look it up!\n",
    "\n",
    "Other than the modal values (which should all be integers) the answers should be in decimal form till one place of decimal (0.0 format). An error margin of +/- 0.1 will be tolerated for the standard deviation and the confidence interval boundaries. The mean, mode and median values should match the expected answers exactly.\n",
    "\n",
    "Assume that these numbers were sampled from a normal distribution; the sample is a reasonable representation of the distribution; a user can approximate that the population standard deviation =~ standard deviation computed for the given points- with the understanding that assumptions of normality are convenient approximations."
   ]
  },
  {
   "cell_type": "markdown",
   "id": "21a4c4c2",
   "metadata": {},
   "source": [
    "Input Format\n",
    "\n",
    "The first line contains the number of integers.\n",
    "The second line contains space separated integers for which you need to find the mean, median, mode, standard deviation and confidence interval boundaries.\n",
    "\n",
    "Constraints\n",
    "\n",
    "10 <= N <= 2500\n",
    "0 < xi <= 105\n",
    "\n",
    "Output Format\n",
    "\n",
    "A total of five lines are required.\n",
    "\n",
    "Mean (format:0.0) on the first line<br>\n",
    "Median (format: 0.0) on the second line<br>\n",
    "Mode(s) (Numerically smallest Integer in case of multiple integers)<br>\n",
    "Standard Deviation (format:0.0) <br>\n",
    "Lower and Upper Boundary of Confidence Interval (format: 0.0) with a space between them.<br>\n",
    "<br>\n",
    "Sample Input\n",
    "\n",
    "10<br>\n",
    "64630 11735 14216 99233 14470 4978 73429 38120 51135 67060<br>\n",
    "<br>\n",
    "Sample Output\n",
    "\n",
    "43900.6<br>\n",
    "44627.5<br>\n",
    "4978<br>\n",
    "30466.9<br>\n",
    "25017.0 62784.2<br>\n",
    "Note\n",
    "Use the constant 1.96 while computing the confidence interval.\n",
    "\n",
    "Scoring\n",
    "\n",
    "Scoring is proportional to the number of test cases cleared."
   ]
  },
  {
   "cell_type": "code",
   "execution_count": 9,
   "id": "a0f29b00",
   "metadata": {},
   "outputs": [
    {
     "name": "stdout",
     "output_type": "stream",
     "text": [
      "10 64630 11735 14216 99233 14470 4978 73429 38120 51135 67060\n",
      "10\n",
      "10\n"
     ]
    }
   ],
   "source": [
    "data = input()\n",
    "lst = data.split(\" \")\n",
    "n = int(lst[0])\n",
    "num = [int(i) for i in lst[1:n+1]]\n",
    "num = sorted(num)\n",
    "print(n)\n",
    "print(len(num))"
   ]
  },
  {
   "cell_type": "code",
   "execution_count": 10,
   "id": "96a278e2",
   "metadata": {},
   "outputs": [],
   "source": [
    "import numpy as np\n",
    "sortednum = np.array(num)"
   ]
  },
  {
   "cell_type": "code",
   "execution_count": 14,
   "id": "7ea1676a",
   "metadata": {},
   "outputs": [
    {
     "name": "stdout",
     "output_type": "stream",
     "text": [
      "43900.6\n"
     ]
    }
   ],
   "source": [
    "mean = np.mean(sortednum)\n",
    "print(mean)"
   ]
  },
  {
   "cell_type": "code",
   "execution_count": 15,
   "id": "2ce6b4fe",
   "metadata": {},
   "outputs": [
    {
     "name": "stdout",
     "output_type": "stream",
     "text": [
      "44627.5\n"
     ]
    }
   ],
   "source": [
    "median = np.median(sortednum)\n",
    "print(median)"
   ]
  },
  {
   "cell_type": "code",
   "execution_count": 17,
   "id": "724f4b82",
   "metadata": {},
   "outputs": [
    {
     "name": "stdout",
     "output_type": "stream",
     "text": [
      "4978\n"
     ]
    }
   ],
   "source": [
    "import statistics as st\n",
    "mode = st.mode(sortednum)\n",
    "print(mode)"
   ]
  },
  {
   "cell_type": "code",
   "execution_count": 18,
   "id": "199acfaf",
   "metadata": {},
   "outputs": [
    {
     "name": "stdout",
     "output_type": "stream",
     "text": [
      "30466.947527443575\n"
     ]
    }
   ],
   "source": [
    "stdev = np.std(sortednum)\n",
    "print(stdev)"
   ]
  },
  {
   "cell_type": "code",
   "execution_count": 21,
   "id": "f016fb3d",
   "metadata": {},
   "outputs": [
    {
     "name": "stdout",
     "output_type": "stream",
     "text": [
      "25016.990282246818\n",
      "62784.20971775318\n"
     ]
    }
   ],
   "source": [
    "import math\n",
    "CI = 1.96 * (stdev/ math.sqrt(n))\n",
    "lowerCI = mean - CI\n",
    "upperCI = mean + CI\n",
    "print(lowerCI)\n",
    "print(upperCI)"
   ]
  },
  {
   "cell_type": "code",
   "execution_count": 22,
   "id": "89d189ae",
   "metadata": {},
   "outputs": [
    {
     "name": "stdout",
     "output_type": "stream",
     "text": [
      "43900.6\n",
      "44627.5\n",
      "4978\n",
      "30466.9\n",
      "25017.0   62784.2\n"
     ]
    }
   ],
   "source": [
    "print(round(mean,1))\n",
    "print(round(median,1))\n",
    "print(mode)\n",
    "print(round(stdev,1))\n",
    "print(round(lowerCI,1),\" \", round(upperCI,1))"
   ]
  },
  {
   "cell_type": "code",
   "execution_count": 23,
   "id": "73dcb825",
   "metadata": {},
   "outputs": [
    {
     "name": "stdout",
     "output_type": "stream",
     "text": [
      "10\n",
      "64630 11735 14216 99233 14470 4978 73429 38120 51135 67060\n",
      "43900.6\n",
      "44627.5\n",
      "4978\n",
      "30466.9\n",
      "25017.0   62784.2\n"
     ]
    }
   ],
   "source": [
    "# Enter your code here. Read input from STDIN. Print output to STDOUT\n",
    "data = input()\n",
    "num = list(map(int, input().split()))\n",
    "n = int(data)\n",
    "num = sorted(num)\n",
    "import numpy as np\n",
    "sortednum = np.array(num)\n",
    "mean = np.mean(sortednum)\n",
    "median = np.median(sortednum)\n",
    "import statistics as st\n",
    "mode = st.mode(sortednum)\n",
    "stdev = np.std(sortednum)\n",
    "import math\n",
    "CI = 1.96 * (stdev/ math.sqrt(n))\n",
    "lowerCI = mean - CI\n",
    "upperCI = mean + CI\n",
    "print(round(mean,1))\n",
    "print(round(median,1))\n",
    "print(mode)\n",
    "print(round(stdev,1))\n",
    "print(round(lowerCI,1),\" \", round(upperCI,1))"
   ]
  },
  {
   "cell_type": "code",
   "execution_count": 25,
   "id": "f27616b2",
   "metadata": {},
   "outputs": [
    {
     "name": "stdout",
     "output_type": "stream",
     "text": [
      "10\n",
      "64630 11735 14216 99233 14470 4978 73429 38120 51135 67060\n",
      "43900.6\n",
      "44627.5\n",
      "4978\n",
      "30466.9\n",
      "25017.0 62784.2\n"
     ]
    },
    {
     "name": "stderr",
     "output_type": "stream",
     "text": [
      "C:\\Users\\kavya\\AppData\\Local\\Temp\\ipykernel_27404\\2949879906.py:18: FutureWarning: Unlike other reduction functions (e.g. `skew`, `kurtosis`), the default behavior of `mode` typically preserves the axis it acts along. In SciPy 1.11.0, this behavior will change: the default value of `keepdims` will become False, the `axis` over which the statistic is taken will be eliminated, and the value None will no longer be accepted. Set `keepdims` to True or False to avoid this warning.\n",
      "  mode = int(stats.mode(numbers)[0])\n"
     ]
    }
   ],
   "source": [
    "# Import libraries\n",
    "import numpy as np\n",
    "import math as m\n",
    "import statistics as stpy\n",
    "from scipy import stats\n",
    "\n",
    "# Define function\n",
    "def mean_confidence_interval(length, stdev):\n",
    "    return 1.96 * (stdev / m.sqrt(length))\n",
    "\n",
    "# Input\n",
    "total = int(input())\n",
    "numbers = list(map(int, input().split()))\n",
    "\n",
    "# Set statistics values\n",
    "mean = np.mean(numbers)\n",
    "median = np.median(numbers)\n",
    "mode = int(stats.mode(numbers)[0])\n",
    "stdev = stpy.pstdev(numbers)\n",
    "confidence_interval = mean_confidence_interval(total, stdev)\n",
    "min_confidence = round(mean - confidence_interval, 1)\n",
    "max_confidence = round(mean + confidence_interval, 1)\n",
    "\n",
    "# Show the final result\n",
    "print(round(mean,1))\n",
    "print(round(median,1))\n",
    "print(mode)\n",
    "print(round(stdev,1))\n",
    "print(\"{} {}\".format(min_confidence, max_confidence))"
   ]
  },
  {
   "cell_type": "code",
   "execution_count": null,
   "id": "956faa8a",
   "metadata": {},
   "outputs": [],
   "source": []
  }
 ],
 "metadata": {
  "kernelspec": {
   "display_name": "Python 3 (ipykernel)",
   "language": "python",
   "name": "python3"
  },
  "language_info": {
   "codemirror_mode": {
    "name": "ipython",
    "version": 3
   },
   "file_extension": ".py",
   "mimetype": "text/x-python",
   "name": "python",
   "nbconvert_exporter": "python",
   "pygments_lexer": "ipython3",
   "version": "3.11.4"
  }
 },
 "nbformat": 4,
 "nbformat_minor": 5
}
